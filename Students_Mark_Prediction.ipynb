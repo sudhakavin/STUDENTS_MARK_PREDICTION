{
  "nbformat": 4,
  "nbformat_minor": 0,
  "metadata": {
    "kernelspec": {
      "display_name": "Python 3",
      "language": "python",
      "name": "python3"
    },
    "language_info": {
      "codemirror_mode": {
        "name": "ipython",
        "version": 3
      },
      "file_extension": ".py",
      "mimetype": "text/x-python",
      "name": "python",
      "nbconvert_exporter": "python",
      "pygments_lexer": "ipython3",
      "version": "3.8.2"
    },
    "colab": {
      "name": "Students_Mark_Prediction.ipynb",
      "provenance": [],
      "collapsed_sections": []
    }
  },
  "cells": [
    {
      "cell_type": "markdown",
      "metadata": {
        "id": "fzN0--j59SRi"
      },
      "source": [
        "## Importing Libraries "
      ]
    },
    {
      "cell_type": "code",
      "metadata": {
        "id": "jtP6dqif9SRo"
      },
      "source": [
        "import numpy as np\n",
        "import matplotlib.pyplot as plt\n",
        "import pandas as pd\n",
        "#import re\n",
        "import random\n",
        "import seaborn as sns "
      ],
      "execution_count": null,
      "outputs": []
    },
    {
      "cell_type": "markdown",
      "metadata": {
        "id": "VrsBlcza9SRs"
      },
      "source": [
        "## Reading Dataset"
      ]
    },
    {
      "cell_type": "code",
      "metadata": {
        "id": "z6mboN6R9SRu"
      },
      "source": [
        "df = pd.read_csv('/content/sample_data/CGdataset.csv')\n",
        "col = ['roll_no','cg3','rollno','cg4']\n",
        "df.columns = col "
      ],
      "execution_count": null,
      "outputs": []
    },
    {
      "cell_type": "code",
      "metadata": {
        "id": "RQRjvUbw9SRx",
        "colab": {
          "base_uri": "https://localhost:8080/",
          "height": 416
        },
        "outputId": "d51bc26e-9811-43ba-babf-775b83e2b0f1"
      },
      "source": [
        "df"
      ],
      "execution_count": null,
      "outputs": [
        {
          "output_type": "execute_result",
          "data": {
            "text/html": [
              "<div>\n",
              "<style scoped>\n",
              "    .dataframe tbody tr th:only-of-type {\n",
              "        vertical-align: middle;\n",
              "    }\n",
              "\n",
              "    .dataframe tbody tr th {\n",
              "        vertical-align: top;\n",
              "    }\n",
              "\n",
              "    .dataframe thead th {\n",
              "        text-align: right;\n",
              "    }\n",
              "</style>\n",
              "<table border=\"1\" class=\"dataframe\">\n",
              "  <thead>\n",
              "    <tr style=\"text-align: right;\">\n",
              "      <th></th>\n",
              "      <th>roll_no</th>\n",
              "      <th>cg3</th>\n",
              "      <th>rollno</th>\n",
              "      <th>cg4</th>\n",
              "    </tr>\n",
              "  </thead>\n",
              "  <tbody>\n",
              "    <tr>\n",
              "      <th>0</th>\n",
              "      <td>2K18/AE/003</td>\n",
              "      <td>4.64</td>\n",
              "      <td>2K18/AE/003</td>\n",
              "      <td>7.45</td>\n",
              "    </tr>\n",
              "    <tr>\n",
              "      <th>1</th>\n",
              "      <td>2K18/AE/004</td>\n",
              "      <td>4.55</td>\n",
              "      <td>2K18/AE/004</td>\n",
              "      <td>5.82</td>\n",
              "    </tr>\n",
              "    <tr>\n",
              "      <th>2</th>\n",
              "      <td>2K18/AE/005</td>\n",
              "      <td>7.64</td>\n",
              "      <td>2K18/AE/005</td>\n",
              "      <td>7.36</td>\n",
              "    </tr>\n",
              "    <tr>\n",
              "      <th>3</th>\n",
              "      <td>2K18/AE/006</td>\n",
              "      <td>9.27</td>\n",
              "      <td>2K18/AE/006</td>\n",
              "      <td>9.82</td>\n",
              "    </tr>\n",
              "    <tr>\n",
              "      <th>4</th>\n",
              "      <td>2K18/AE/007</td>\n",
              "      <td>6.91</td>\n",
              "      <td>2K18/AE/007</td>\n",
              "      <td>7.18</td>\n",
              "    </tr>\n",
              "    <tr>\n",
              "      <th>...</th>\n",
              "      <td>...</td>\n",
              "      <td>...</td>\n",
              "      <td>...</td>\n",
              "      <td>...</td>\n",
              "    </tr>\n",
              "    <tr>\n",
              "      <th>1541</th>\n",
              "      <td>2K18/SE/133</td>\n",
              "      <td>6.55</td>\n",
              "      <td>2K18/SE/133</td>\n",
              "      <td>6.82</td>\n",
              "    </tr>\n",
              "    <tr>\n",
              "      <th>1542</th>\n",
              "      <td>2K18/SE/135</td>\n",
              "      <td>7.09</td>\n",
              "      <td>2K18/SE/135</td>\n",
              "      <td>7.45</td>\n",
              "    </tr>\n",
              "    <tr>\n",
              "      <th>1543</th>\n",
              "      <td>2K18/SE/136</td>\n",
              "      <td>7.55</td>\n",
              "      <td>2K18/SE/136</td>\n",
              "      <td>9.09</td>\n",
              "    </tr>\n",
              "    <tr>\n",
              "      <th>1544</th>\n",
              "      <td>2K18/SE/137</td>\n",
              "      <td>7.91</td>\n",
              "      <td>2K18/SE/137</td>\n",
              "      <td>8.91</td>\n",
              "    </tr>\n",
              "    <tr>\n",
              "      <th>1545</th>\n",
              "      <td>2K18/SE/138</td>\n",
              "      <td>1.64</td>\n",
              "      <td>2K18/SE/138</td>\n",
              "      <td>2.50</td>\n",
              "    </tr>\n",
              "  </tbody>\n",
              "</table>\n",
              "<p>1546 rows × 4 columns</p>\n",
              "</div>"
            ],
            "text/plain": [
              "          roll_no   cg3       rollno   cg4\n",
              "0     2K18/AE/003  4.64  2K18/AE/003  7.45\n",
              "1     2K18/AE/004  4.55  2K18/AE/004  5.82\n",
              "2     2K18/AE/005  7.64  2K18/AE/005  7.36\n",
              "3     2K18/AE/006  9.27  2K18/AE/006  9.82\n",
              "4     2K18/AE/007  6.91  2K18/AE/007  7.18\n",
              "...           ...   ...          ...   ...\n",
              "1541  2K18/SE/133  6.55  2K18/SE/133  6.82\n",
              "1542  2K18/SE/135  7.09  2K18/SE/135  7.45\n",
              "1543  2K18/SE/136  7.55  2K18/SE/136  9.09\n",
              "1544  2K18/SE/137  7.91  2K18/SE/137  8.91\n",
              "1545  2K18/SE/138  1.64  2K18/SE/138  2.50\n",
              "\n",
              "[1546 rows x 4 columns]"
            ]
          },
          "metadata": {
            "tags": []
          },
          "execution_count": 3
        }
      ]
    },
    {
      "cell_type": "markdown",
      "metadata": {
        "id": "50Jhg2VI9SR1"
      },
      "source": [
        "## Droping null values "
      ]
    },
    {
      "cell_type": "code",
      "metadata": {
        "colab": {
          "base_uri": "https://localhost:8080/"
        },
        "id": "O3MeXYOw9SR2",
        "outputId": "5ca65252-d024-4f83-b559-f92d7bba0ea5"
      },
      "source": [
        "print(df.dropna(how='any'))\n",
        "df = df.dropna(how='any')"
      ],
      "execution_count": null,
      "outputs": [
        {
          "output_type": "stream",
          "text": [
            "          roll_no   cg3       rollno   cg4\n",
            "0     2K18/AE/003  4.64  2K18/AE/003  7.45\n",
            "1     2K18/AE/004  4.55  2K18/AE/004  5.82\n",
            "2     2K18/AE/005  7.64  2K18/AE/005  7.36\n",
            "3     2K18/AE/006  9.27  2K18/AE/006  9.82\n",
            "4     2K18/AE/007  6.91  2K18/AE/007  7.18\n",
            "...           ...   ...          ...   ...\n",
            "1541  2K18/SE/133  6.55  2K18/SE/133  6.82\n",
            "1542  2K18/SE/135  7.09  2K18/SE/135  7.45\n",
            "1543  2K18/SE/136  7.55  2K18/SE/136  9.09\n",
            "1544  2K18/SE/137  7.91  2K18/SE/137  8.91\n",
            "1545  2K18/SE/138  1.64  2K18/SE/138  2.50\n",
            "\n",
            "[1530 rows x 4 columns]\n"
          ],
          "name": "stdout"
        }
      ]
    },
    {
      "cell_type": "markdown",
      "metadata": {
        "id": "Ar4hYmxh9SR3"
      },
      "source": [
        "## Droping rows with cg less than 1 in either one of the semester "
      ]
    },
    {
      "cell_type": "code",
      "metadata": {
        "colab": {
          "base_uri": "https://localhost:8080/",
          "height": 66
        },
        "id": "E57OhZsW9SR4",
        "outputId": "bef8532e-4370-4661-d4cb-b98402df1060"
      },
      "source": [
        "df_less = df[(df['cg3']<1) | (df['cg4']<1) ]\n",
        "print(type(df_less))\n",
        "df_less"
      ],
      "execution_count": null,
      "outputs": [
        {
          "output_type": "stream",
          "text": [
            "<class 'pandas.core.frame.DataFrame'>\n"
          ],
          "name": "stdout"
        },
        {
          "output_type": "execute_result",
          "data": {
            "text/html": [
              "<div>\n",
              "<style scoped>\n",
              "    .dataframe tbody tr th:only-of-type {\n",
              "        vertical-align: middle;\n",
              "    }\n",
              "\n",
              "    .dataframe tbody tr th {\n",
              "        vertical-align: top;\n",
              "    }\n",
              "\n",
              "    .dataframe thead th {\n",
              "        text-align: right;\n",
              "    }\n",
              "</style>\n",
              "<table border=\"1\" class=\"dataframe\">\n",
              "  <thead>\n",
              "    <tr style=\"text-align: right;\">\n",
              "      <th></th>\n",
              "      <th>roll_no</th>\n",
              "      <th>cg3</th>\n",
              "      <th>rollno</th>\n",
              "      <th>cg4</th>\n",
              "    </tr>\n",
              "  </thead>\n",
              "  <tbody>\n",
              "  </tbody>\n",
              "</table>\n",
              "</div>"
            ],
            "text/plain": [
              "Empty DataFrame\n",
              "Columns: [roll_no, cg3, rollno, cg4]\n",
              "Index: []"
            ]
          },
          "metadata": {
            "tags": []
          },
          "execution_count": 24
        }
      ]
    },
    {
      "cell_type": "code",
      "metadata": {
        "colab": {
          "base_uri": "https://localhost:8080/"
        },
        "id": "ngZ3ZZDL9SR5",
        "outputId": "9a768ac2-bdc1-4028-a714-07c26fd6cb2d"
      },
      "source": [
        "df_less = df[(df['cg3']<1) | (df['cg4']<1) ].index\n",
        "print(type(df_less))\n",
        "print(df_less)"
      ],
      "execution_count": null,
      "outputs": [
        {
          "output_type": "stream",
          "text": [
            "<class 'pandas.core.indexes.numeric.Int64Index'>\n",
            "Int64Index([67, 88, 157, 580, 594, 714, 738, 840, 851, 858, 863, 990], dtype='int64')\n"
          ],
          "name": "stdout"
        }
      ]
    },
    {
      "cell_type": "code",
      "metadata": {
        "id": "mIcjooF49SR6"
      },
      "source": [
        "# function to drop \n",
        "for i in df_less:\n",
        "    df = df.drop(i)"
      ],
      "execution_count": null,
      "outputs": []
    },
    {
      "cell_type": "markdown",
      "metadata": {
        "id": "CX3BKky19SR8"
      },
      "source": [
        "## Visualization  "
      ]
    },
    {
      "cell_type": "code",
      "metadata": {
        "id": "jhKexOQd9SR9"
      },
      "source": [
        ""
      ],
      "execution_count": null,
      "outputs": []
    },
    {
      "cell_type": "code",
      "metadata": {
        "id": "Fc5J6mwF9SR9"
      },
      "source": [
        ""
      ],
      "execution_count": null,
      "outputs": []
    },
    {
      "cell_type": "code",
      "metadata": {
        "colab": {
          "base_uri": "https://localhost:8080/",
          "height": 606
        },
        "id": "UHie-N4c9SR-",
        "outputId": "58a4ce2d-0a4a-4ac4-e3c6-0ef50b8ae26e"
      },
      "source": [
        "plt.figure(figsize=(10,10))\n",
        "\n",
        "plt.scatter(df['cg3'],df['cg4'])\n",
        "plt.xlabel('3rd Sem CGPA')\n",
        "plt.ylabel('4rd Sem CGPA')\n",
        "\n",
        "plt.grid()\n",
        "plt.show()"
      ],
      "execution_count": null,
      "outputs": [
        {
          "output_type": "display_data",
          "data": {
            "image/png": "[encoded data removed]",
            "text/plain": [
              "<Figure size 720x720 with 1 Axes>"
            ]
          },
          "metadata": {
            "tags": [],
            "needs_background": "light"
          }
        }
      ]
    },
    {
      "cell_type": "code",
      "metadata": {
        "colab": {
          "base_uri": "https://localhost:8080/",
          "height": 386
        },
        "id": "B9xLyi229SR_",
        "outputId": "3b1690e6-6fd2-41b6-fc7b-623580ef600f"
      },
      "source": [
        "sns.displot(df['cg4']- df['cg3'])"
      ],
      "execution_count": null,
      "outputs": [
        {
          "output_type": "execute_result",
          "data": {
            "text/plain": [
              "<seaborn.axisgrid.FacetGrid at 0x7f98f0987850>"
            ]
          },
          "metadata": {
            "tags": []
          },
          "execution_count": 9
        },
        {
          "output_type": "display_data",
          "data": {
            "image/png": "[encoded data removed]",
            "text/plain": [
              "<Figure size 360x360 with 1 Axes>"
            ]
          },
          "metadata": {
            "tags": [],
            "needs_background": "light"
          }
        }
      ]
    },
    {
      "cell_type": "code",
      "metadata": {
        "id": "qVfIcIMh9SSA"
      },
      "source": [
        ""
      ],
      "execution_count": null,
      "outputs": []
    },
    {
      "cell_type": "code",
      "metadata": {
        "id": "MqDST8pm9SSB"
      },
      "source": [
        ""
      ],
      "execution_count": null,
      "outputs": []
    },
    {
      "cell_type": "code",
      "metadata": {
        "id": "9RZcPAbc9SSC"
      },
      "source": [
        ""
      ],
      "execution_count": null,
      "outputs": []
    },
    {
      "cell_type": "markdown",
      "metadata": {
        "id": "9QPnj-BQ9SSC"
      },
      "source": [
        "## Spliting into Training and Testing split"
      ]
    },
    {
      "cell_type": "code",
      "metadata": {
        "id": "v-6vcE2t9SSD",
        "colab": {
          "base_uri": "https://localhost:8080/"
        },
        "outputId": "5634671b-fd5d-4a0a-d979-b3b5544910e8"
      },
      "source": [
        "from sklearn.model_selection import train_test_split\n",
        "\n",
        "X = df['cg3']\n",
        "y = df['cg4']\n",
        "\n",
        "X_train, X_test, y_train, y_test = train_test_split(X, y, test_size=0.3, random_state=1)\n",
        "print(X_train.shape, X_test.shape, y_train.shape, y_test.shape)"
      ],
      "execution_count": null,
      "outputs": [
        {
          "output_type": "stream",
          "text": [
            "(1071,) (459,) (1071,) (459,)\n"
          ],
          "name": "stdout"
        }
      ]
    },
    {
      "cell_type": "markdown",
      "metadata": {
        "id": "6gQVAyB49SSE"
      },
      "source": [
        "## Gradient Decent "
      ]
    },
    {
      "cell_type": "code",
      "metadata": {
        "id": "OwOtpnNh9SSF"
      },
      "source": [
        "def gradient_descent(x, y_expected, epochs=1000, learning_rate=0.0001):\n",
        "    global w,b\n",
        "    w = random.uniform(0, 1)\n",
        "    b = random.uniform(0, 1)\n",
        "\n",
        "    N = x.shape[0]\n",
        "    cost = []\n",
        "    for i in range(epochs):\n",
        "        y_current = w * x + b\n",
        "        cost.append(np.sum((y_expected - y_current) ** 2) / N)\n",
        "        w_gradient = - 2 / N * np.sum(2 * (y_expected - y_current) * x)\n",
        "        b_gradient = - 2 / N * np.sum(2 * (y_expected - y_current))\n",
        "\n",
        "        w = w - (learning_rate * w_gradient)\n",
        "        b = b - (learning_rate * b_gradient)\n",
        "\n",
        "    return w, b, cost"
      ],
      "execution_count": null,
      "outputs": []
    },
    {
      "cell_type": "code",
      "metadata": {
        "id": "DK8_F4FL9SSF"
      },
      "source": [
        ""
      ],
      "execution_count": null,
      "outputs": []
    },
    {
      "cell_type": "code",
      "metadata": {
        "id": "PD0oc0Ca9SSG"
      },
      "source": [
        "def predict_grades():\n",
        "    \n",
        "    x, y = df['cg3'], df['cg4']\n",
        "    \n",
        "    w, b, costs = gradient_descent(x, y, epochs=1000, learning_rate=0.008)\n",
        "    \n",
        "    plt.figure(figsize=(10,10))\n",
        "\n",
        "    plt.plot(costs,'.')\n",
        "    plt.title('Cost')\n",
        "    plt.xlabel('Epoch number')\n",
        "    plt.ylabel('Cost value')\n",
        "    plt.grid()\n",
        "    plt.show()\n",
        "    \n",
        "    x_plot = np.arange(0, 10, 0.1)\n",
        "    y_plot = x_plot*w+b\n",
        "    \n",
        "    plt.figure(figsize=(10,10))\n",
        "\n",
        "    plt.plot(X_train, y_train, '.', x_plot, y_plot, '-')\n",
        "    plt.xlabel('CGPA 3rd Sem')\n",
        "    plt.ylabel('CGPA 4th Sem')\n",
        "    plt.legend(['Score points', 'Linear regression'])\n",
        "    plt.grid()\n",
        "    plt.show()\n"
      ],
      "execution_count": null,
      "outputs": []
    },
    {
      "cell_type": "code",
      "metadata": {
        "scrolled": false,
        "id": "KP7aI9ck9SSH",
        "colab": {
          "base_uri": "https://localhost:8080/",
          "height": 1000
        },
        "outputId": "4dfe4107-eaaa-4ea8-a503-d2bfab3f56cb"
      },
      "source": [
        "predict_grades()"
      ],
      "execution_count": null,
      "outputs": [
        {
          "output_type": "display_data",
          "data": {
            "image/png": "[encoded data removed]",
            "text/plain": [
              "<Figure size 720x720 with 1 Axes>"
            ]
          },
          "metadata": {
            "tags": [],
            "needs_background": "light"
          }
        },
        {
          "output_type": "display_data",
          "data": {
            "image/png": "[encoded data removed]",
            "text/plain": [
              "<Figure size 720x720 with 1 Axes>"
            ]
          },
          "metadata": {
            "tags": [],
            "needs_background": "light"
          }
        }
      ]
    },
    {
      "cell_type": "code",
      "metadata": {
        "id": "7mX6a0Nc9SSI",
        "colab": {
          "base_uri": "https://localhost:8080/"
        },
        "outputId": "bfec3fd3-e320-4f37-dcac-ae595525ddd7"
      },
      "source": [
        "print('Slope of the line is: ',w,'\\n','Y intercept is: ',b)"
      ],
      "execution_count": null,
      "outputs": [
        {
          "output_type": "stream",
          "text": [
            "Slope of the line is:  0.7210415558915944 \n",
            " Y intercept is:  2.5646287769219227\n"
          ],
          "name": "stdout"
        }
      ]
    },
    {
      "cell_type": "code",
      "metadata": {
        "id": "QYJwaw369SSI",
        "colab": {
          "base_uri": "https://localhost:8080/",
          "height": 416
        },
        "outputId": "8935db1b-d9be-4361-8cdd-7300bdf10ce9"
      },
      "source": [
        "df_pre =  pd.DataFrame(y_test)\n",
        "y_pre = X_test*w + b\n",
        "df_pre['CG4 Predicted'] = y_pre\n",
        "df_pre"
      ],
      "execution_count": null,
      "outputs": [
        {
          "output_type": "execute_result",
          "data": {
            "text/html": [
              "<div>\n",
              "<style scoped>\n",
              "    .dataframe tbody tr th:only-of-type {\n",
              "        vertical-align: middle;\n",
              "    }\n",
              "\n",
              "    .dataframe tbody tr th {\n",
              "        vertical-align: top;\n",
              "    }\n",
              "\n",
              "    .dataframe thead th {\n",
              "        text-align: right;\n",
              "    }\n",
              "</style>\n",
              "<table border=\"1\" class=\"dataframe\">\n",
              "  <thead>\n",
              "    <tr style=\"text-align: right;\">\n",
              "      <th></th>\n",
              "      <th>cg4</th>\n",
              "      <th>CG4 Predicted</th>\n",
              "    </tr>\n",
              "  </thead>\n",
              "  <tbody>\n",
              "    <tr>\n",
              "      <th>60</th>\n",
              "      <td>9.64</td>\n",
              "      <td>9.054003</td>\n",
              "    </tr>\n",
              "    <tr>\n",
              "      <th>1046</th>\n",
              "      <td>8.91</td>\n",
              "      <td>8.073386</td>\n",
              "    </tr>\n",
              "    <tr>\n",
              "      <th>267</th>\n",
              "      <td>9.18</td>\n",
              "      <td>9.054003</td>\n",
              "    </tr>\n",
              "    <tr>\n",
              "      <th>605</th>\n",
              "      <td>8.00</td>\n",
              "      <td>7.547026</td>\n",
              "    </tr>\n",
              "    <tr>\n",
              "      <th>1283</th>\n",
              "      <td>6.18</td>\n",
              "      <td>6.364518</td>\n",
              "    </tr>\n",
              "    <tr>\n",
              "      <th>...</th>\n",
              "      <td>...</td>\n",
              "      <td>...</td>\n",
              "    </tr>\n",
              "    <tr>\n",
              "      <th>8</th>\n",
              "      <td>7.45</td>\n",
              "      <td>7.417238</td>\n",
              "    </tr>\n",
              "    <tr>\n",
              "      <th>604</th>\n",
              "      <td>8.00</td>\n",
              "      <td>7.806601</td>\n",
              "    </tr>\n",
              "    <tr>\n",
              "      <th>244</th>\n",
              "      <td>8.00</td>\n",
              "      <td>8.657430</td>\n",
              "    </tr>\n",
              "    <tr>\n",
              "      <th>496</th>\n",
              "      <td>8.45</td>\n",
              "      <td>8.397855</td>\n",
              "    </tr>\n",
              "    <tr>\n",
              "      <th>1520</th>\n",
              "      <td>8.64</td>\n",
              "      <td>8.268067</td>\n",
              "    </tr>\n",
              "  </tbody>\n",
              "</table>\n",
              "<p>459 rows × 2 columns</p>\n",
              "</div>"
            ],
            "text/plain": [
              "       cg4  CG4 Predicted\n",
              "60    9.64       9.054003\n",
              "1046  8.91       8.073386\n",
              "267   9.18       9.054003\n",
              "605   8.00       7.547026\n",
              "1283  6.18       6.364518\n",
              "...    ...            ...\n",
              "8     7.45       7.417238\n",
              "604   8.00       7.806601\n",
              "244   8.00       8.657430\n",
              "496   8.45       8.397855\n",
              "1520  8.64       8.268067\n",
              "\n",
              "[459 rows x 2 columns]"
            ]
          },
          "metadata": {
            "tags": []
          },
          "execution_count": 15
        }
      ]
    },
    {
      "cell_type": "code",
      "metadata": {
        "id": "dqzU4vRF9SSJ",
        "colab": {
          "base_uri": "https://localhost:8080/",
          "height": 386
        },
        "outputId": "cf111b20-70d9-4b51-a73d-11d8f0c512d7"
      },
      "source": [
        "sns.displot(y_test-y_pre)"
      ],
      "execution_count": null,
      "outputs": [
        {
          "output_type": "execute_result",
          "data": {
            "text/plain": [
              "<seaborn.axisgrid.FacetGrid at 0x7f98e6104cd0>"
            ]
          },
          "metadata": {
            "tags": []
          },
          "execution_count": 16
        },
        {
          "output_type": "display_data",
          "data": {
            "image/png": "[encoded data removed]",
            "text/plain": [
              "<Figure size 360x360 with 1 Axes>"
            ]
          },
          "metadata": {
            "tags": [],
            "needs_background": "light"
          }
        }
      ]
    },
    {
      "cell_type": "markdown",
      "metadata": {
        "id": "M83SBhF69SSK"
      },
      "source": [
        "## Performance Measures"
      ]
    },
    {
      "cell_type": "code",
      "metadata": {
        "id": "4K79pefy9SSK"
      },
      "source": [
        "from sklearn import metrics"
      ],
      "execution_count": null,
      "outputs": []
    },
    {
      "cell_type": "code",
      "metadata": {
        "id": "r9c6nKJO9SSL",
        "colab": {
          "base_uri": "https://localhost:8080/"
        },
        "outputId": "51343dd4-7f17-4523-bb70-f3035266077c"
      },
      "source": [
        "print()\n",
        "print('Mean Square Error:     ', metrics.mean_squared_error(y_test, y_pre))\n",
        "print()\n",
        "print('R2 Score:              ', metrics.r2_score(y_test,y_pre))"
      ],
      "execution_count": null,
      "outputs": [
        {
          "output_type": "stream",
          "text": [
            "\n",
            "Mean Square Error:      0.3276117157624255\n",
            "\n",
            "R2 Score:               0.7986940885264974\n"
          ],
          "name": "stdout"
        }
      ]
    },
    {
      "cell_type": "code",
      "metadata": {
        "id": "QF2GefI39SSM"
      },
      "source": [
        "def mean_absolute_percentage_error(y_true, y_pred): \n",
        "    y_true, y_pred = np.array(y_true), np.array(y_pred)\n",
        "    return np.mean(np.abs((y_true - y_pred) / y_true)) * 100"
      ],
      "execution_count": null,
      "outputs": []
    },
    {
      "cell_type": "code",
      "metadata": {
        "id": "Tf2mv55F9SSN",
        "colab": {
          "base_uri": "https://localhost:8080/"
        },
        "outputId": "17854486-01c3-4f29-a849-29426cbba48c"
      },
      "source": [
        "print('MAPE is:- ',mean_absolute_percentage_error(y_test,y_pre))"
      ],
      "execution_count": null,
      "outputs": [
        {
          "output_type": "stream",
          "text": [
            "MAPE is:-  5.9577807155890925\n"
          ],
          "name": "stdout"
        }
      ]
    },
    {
      "cell_type": "code",
      "metadata": {
        "id": "00fHguMY9SSO",
        "colab": {
          "base_uri": "https://localhost:8080/"
        },
        "outputId": "58425676-aca3-4efb-f692-1fa4063823b6"
      },
      "source": [
        "rmspe = np.sqrt(np.mean(np.square(((y_test - y_pre) / y_test)), axis=0))\n",
        "print('RMSPE is:-',rmspe*100)"
      ],
      "execution_count": null,
      "outputs": [
        {
          "output_type": "stream",
          "text": [
            "RMSPE is:- 9.091398214974204\n"
          ],
          "name": "stdout"
        }
      ]
    },
    {
      "cell_type": "code",
      "metadata": {
        "id": "fUdrVkYu9SSQ",
        "colab": {
          "base_uri": "https://localhost:8080/"
        },
        "outputId": "e073c8c7-fa2f-4a89-e99f-fd6b67336ecd"
      },
      "source": [
        "mbe = (y_test-y_pre).mean()\n",
        "print('MBE is:-',mbe)"
      ],
      "execution_count": null,
      "outputs": [
        {
          "output_type": "stream",
          "text": [
            "MBE is:- -0.005404459018809616\n"
          ],
          "name": "stdout"
        }
      ]
    },
    {
      "cell_type": "code",
      "metadata": {
        "id": "jA7Wi_y09SSR"
      },
      "source": [
        ""
      ],
      "execution_count": null,
      "outputs": []
    },
    {
      "cell_type": "code",
      "metadata": {
        "id": "OqTHoyw49SSU"
      },
      "source": [
        ""
      ],
      "execution_count": null,
      "outputs": []
    }
  ]
}